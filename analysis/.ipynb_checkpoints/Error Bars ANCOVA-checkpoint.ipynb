{
 "cells": [
  {
   "cell_type": "code",
   "execution_count": 75,
   "metadata": {
    "scrolled": true
   },
   "outputs": [
    {
     "name": "stdout",
     "output_type": "stream",
     "text": [
      "        worker_id  question  response  answer  correct  confidence  likely  \\\n",
      "0  A2C7TMRC2QHTIW         1         1       1        1           5       4   \n",
      "1  A2C7TMRC2QHTIW         2         1       0        0           6       5   \n",
      "2  A2C7TMRC2QHTIW         3         0       1        0           6       4   \n",
      "3  A2C7TMRC2QHTIW         4         1       0        0           7       5   \n",
      "4  A2C7TMRC2QHTIW         5         0       1        0           5       4   \n",
      "\n",
      "  type  \n",
      "0  bar  \n",
      "1  bar  \n",
      "2  bar  \n",
      "3  bar  \n",
      "4  bar  \n"
     ]
    }
   ],
   "source": [
    "import pandas as pd\n",
    "\n",
    "\n",
    "df=pd.read_csv(\"output/merged_output.csv\", header=None)\n",
    "df.columns = ['worker_id', 'question','response', 'answer', 'correct', 'confidence', 'likely', 'type']\n",
    "df.correct = pd.to_numeric(df.correct, errors='coerce')\n",
    "df.confidence = pd.to_numeric(df.confidence, errors='coerce')\n",
    "df.likely = pd.to_numeric(df.likely, errors='coerce')\n",
    "print(df.head())\n"
   ]
  },
  {
   "cell_type": "code",
   "execution_count": 80,
   "metadata": {},
   "outputs": [
    {
     "name": "stdout",
     "output_type": "stream",
     "text": [
      "        worker_id  question  response  answer  correct  confidence  likely  \\\n",
      "0  A2C7TMRC2QHTIW         1         1       1        1           5       4   \n",
      "1  A2C7TMRC2QHTIW         2         1       0        0           6       5   \n",
      "2  A2C7TMRC2QHTIW         3         0       1        0           6       4   \n",
      "3  A2C7TMRC2QHTIW         4         1       0        0           7       5   \n",
      "4  A2C7TMRC2QHTIW         5         0       1        0           5       4   \n",
      "\n",
      "  type  overall_accuracy  accuracy_question       std       cdf     1-cdf  \\\n",
      "0  bar          0.451389               0.36  0.056374  0.052496  0.947504   \n",
      "1  bar          0.451389               0.52  0.056374  0.888212  0.111788   \n",
      "2  bar          0.451389               0.40  0.056374  0.180997  0.819003   \n",
      "3  bar          0.451389               0.52  0.056374  0.888212  0.111788   \n",
      "4  bar          0.451389               0.42  0.056374  0.288833  0.711167   \n",
      "\n",
      "     maxcdf       pdf  \n",
      "0  0.947504  1.901788  \n",
      "1  0.888212  3.374266  \n",
      "2  0.819003  4.670791  \n",
      "3  0.888212  3.374266  \n",
      "4  0.711167  6.060537  \n"
     ]
    }
   ],
   "source": [
    "import scipy.stats\n",
    "\n",
    "df['overall_accuracy'] = df['correct'].mean()\n",
    "df['accuracy_question'] = df['correct'].groupby(df['question']).transform('mean')\n",
    "std = df.groupby('question')['correct'].mean().std()\n",
    "df['std'] = std\n",
    "\n",
    "df['cdf'] = scipy.stats.norm(df['overall_accuracy'],df['std']).cdf(df['accuracy_question'])\n",
    "df['1-cdf'] = 1 - df['cdf']\n",
    "df['maxcdf'] = df[[\"cdf\", \"1-cdf\"]].max(axis=1)\n",
    "df['pdf'] = scipy.stats.norm(df['overall_accuracy'],df['std']).pdf(df['accuracy_question'])\n",
    "print(df.head())"
   ]
  },
  {
   "cell_type": "code",
   "execution_count": 82,
   "metadata": {},
   "outputs": [
    {
     "name": "stdout",
     "output_type": "stream",
     "text": [
      "                            OLS Regression Results                            \n",
      "==============================================================================\n",
      "Dep. Variable:             confidence   R-squared:                       0.002\n",
      "Model:                            OLS   Adj. R-squared:                  0.001\n",
      "Method:                 Least Squares   F-statistic:                     5.958\n",
      "Date:                Wed, 12 Dec 2018   Prob (F-statistic):             0.0147\n",
      "Time:                        18:07:06   Log-Likelihood:                -6822.6\n",
      "No. Observations:                3600   AIC:                         1.365e+04\n",
      "Df Residuals:                    3598   BIC:                         1.366e+04\n",
      "Df Model:                           1                                         \n",
      "Covariance Type:            nonrobust                                         \n",
      "==============================================================================\n",
      "                 coef    std err          t      P>|t|      [0.025      0.975]\n",
      "------------------------------------------------------------------------------\n",
      "Intercept      4.8270      0.148     32.581      0.000       4.537       5.118\n",
      "maxcdf        -0.4600      0.188     -2.441      0.015      -0.829      -0.091\n",
      "==============================================================================\n",
      "Omnibus:                      175.620   Durbin-Watson:                   0.858\n",
      "Prob(Omnibus):                  0.000   Jarque-Bera (JB):              155.492\n",
      "Skew:                          -0.444   Prob(JB):                     1.72e-34\n",
      "Kurtosis:                       2.504   Cond. No.                         11.3\n",
      "==============================================================================\n",
      "\n",
      "Warnings:\n",
      "[1] Standard Errors assume that the covariance matrix of the errors is correctly specified.\n",
      "4.471388888888889\n"
     ]
    }
   ],
   "source": [
    "import statsmodels.formula.api as smf\n",
    "model1 = smf.ols('confidence ~ maxcdf', df).fit()\n",
    "print(model1.summary())"
   ]
  },
  {
   "cell_type": "code",
   "execution_count": 83,
   "metadata": {},
   "outputs": [
    {
     "name": "stdout",
     "output_type": "stream",
     "text": [
      "                            OLS Regression Results                            \n",
      "==============================================================================\n",
      "Dep. Variable:                 likely   R-squared:                       0.002\n",
      "Model:                            OLS   Adj. R-squared:                  0.002\n",
      "Method:                 Least Squares   F-statistic:                     6.521\n",
      "Date:                Wed, 12 Dec 2018   Prob (F-statistic):             0.0107\n",
      "Time:                        18:08:42   Log-Likelihood:                -6761.2\n",
      "No. Observations:                3600   AIC:                         1.353e+04\n",
      "Df Residuals:                    3598   BIC:                         1.354e+04\n",
      "Df Model:                           1                                         \n",
      "Covariance Type:            nonrobust                                         \n",
      "==============================================================================\n",
      "                 coef    std err          t      P>|t|      [0.025      0.975]\n",
      "------------------------------------------------------------------------------\n",
      "Intercept      4.5052      0.074     60.540      0.000       4.359       4.651\n",
      "pdf           -0.0375      0.015     -2.554      0.011      -0.066      -0.009\n",
      "==============================================================================\n",
      "Omnibus:                      179.287   Durbin-Watson:                   1.088\n",
      "Prob(Omnibus):                  0.000   Jarque-Bera (JB):               87.951\n",
      "Skew:                          -0.191   Prob(JB):                     7.97e-20\n",
      "Kurtosis:                       2.337   Cond. No.                         14.8\n",
      "==============================================================================\n",
      "\n",
      "Warnings:\n",
      "[1] Standard Errors assume that the covariance matrix of the errors is correctly specified.\n"
     ]
    }
   ],
   "source": [
    "model2 = smf.ols('likely ~ pdf', df).fit()\n",
    "print(model2.summary())"
   ]
  },
  {
   "cell_type": "code",
   "execution_count": 89,
   "metadata": {},
   "outputs": [
    {
     "name": "stdout",
     "output_type": "stream",
     "text": [
      "                            OLS Regression Results                            \n",
      "==============================================================================\n",
      "Dep. Variable:                correct   R-squared:                       0.016\n",
      "Model:                            OLS   Adj. R-squared:                  0.015\n",
      "Method:                 Least Squares   F-statistic:                     19.79\n",
      "Date:                Wed, 12 Dec 2018   Prob (F-statistic):           1.01e-12\n",
      "Time:                        22:17:03   Log-Likelihood:                -2566.3\n",
      "No. Observations:                3600   AIC:                             5141.\n",
      "Df Residuals:                    3596   BIC:                             5165.\n",
      "Df Model:                           3                                         \n",
      "Covariance Type:            nonrobust                                         \n",
      "====================================================================================\n",
      "                       coef    std err          t      P>|t|      [0.025      0.975]\n",
      "------------------------------------------------------------------------------------\n",
      "Intercept            0.3775      0.018     21.514      0.000       0.343       0.412\n",
      "type[T.box]          0.1040      0.024      4.397      0.000       0.058       0.150\n",
      "type[T.gradient]     0.0191      0.024      0.796      0.426      -0.028       0.066\n",
      "type[T.violin]       0.1577      0.024      6.615      0.000       0.111       0.204\n",
      "==============================================================================\n",
      "Omnibus:                       21.590   Durbin-Watson:                   1.448\n",
      "Prob(Omnibus):                  0.000   Jarque-Bera (JB):              561.713\n",
      "Skew:                           0.191   Prob(JB):                    1.06e-122\n",
      "Kurtosis:                       1.103   Cond. No.                         5.07\n",
      "==============================================================================\n",
      "\n",
      "Warnings:\n",
      "[1] Standard Errors assume that the covariance matrix of the errors is correctly specified.\n"
     ]
    }
   ],
   "source": [
    "\n",
    "model3=smf.ols('correct ~ type', df).fit()\n",
    "print(model3.summary())"
   ]
  },
  {
   "cell_type": "code",
   "execution_count": 90,
   "metadata": {},
   "outputs": [
    {
     "name": "stdout",
     "output_type": "stream",
     "text": [
      "                            OLS Regression Results                            \n",
      "==============================================================================\n",
      "Dep. Variable:                correct   R-squared:                       0.001\n",
      "Model:                            OLS   Adj. R-squared:                  0.001\n",
      "Method:                 Least Squares   F-statistic:                     3.842\n",
      "Date:                Wed, 12 Dec 2018   Prob (F-statistic):             0.0501\n",
      "Time:                        22:17:27   Log-Likelihood:                -2593.8\n",
      "No. Observations:                3600   AIC:                             5192.\n",
      "Df Residuals:                    3598   BIC:                             5204.\n",
      "Df Model:                           1                                         \n",
      "Covariance Type:            nonrobust                                         \n",
      "===============================================================================================\n",
      "                                  coef    std err          t      P>|t|      [0.025      0.975]\n",
      "-----------------------------------------------------------------------------------------------\n",
      "Intercept                       0.4348      0.012     36.707      0.000       0.412       0.458\n",
      "modified_type[T.non-binary]     0.0325      0.017      1.960      0.050   -7.44e-06       0.065\n",
      "==============================================================================\n",
      "Omnibus:                       22.502   Durbin-Watson:                   1.426\n",
      "Prob(Omnibus):                  0.000   Jarque-Bera (JB):              597.682\n",
      "Skew:                           0.195   Prob(JB):                    1.64e-130\n",
      "Kurtosis:                       1.042   Cond. No.                         2.64\n",
      "==============================================================================\n",
      "\n",
      "Warnings:\n",
      "[1] Standard Errors assume that the covariance matrix of the errors is correctly specified.\n"
     ]
    }
   ],
   "source": [
    "df['modified_type'] = 'non-binary'\n",
    "df.loc[df['type'] == 'box','modified_type'] = 'binary'\n",
    "df.loc[df['type'] == 'bar','modified_type'] = 'binary'\n",
    "\n",
    "model4=smf.ols('correct ~ modified_type', df).fit()\n",
    "print(model4.summary())"
   ]
  }
 ],
 "metadata": {
  "kernelspec": {
   "display_name": "Python 3",
   "language": "python",
   "name": "python3"
  },
  "language_info": {
   "codemirror_mode": {
    "name": "ipython",
    "version": 3
   },
   "file_extension": ".py",
   "mimetype": "text/x-python",
   "name": "python",
   "nbconvert_exporter": "python",
   "pygments_lexer": "ipython3",
   "version": "3.6.7"
  }
 },
 "nbformat": 4,
 "nbformat_minor": 2
}
